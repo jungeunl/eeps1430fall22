{
 "cells": [
  {
   "cell_type": "markdown",
   "metadata": {
    "id": "9_sRZIjWbXG-"
   },
   "source": [
    "# Lists"
   ]
  },
  {
   "cell_type": "markdown",
   "metadata": {
    "id": "IHaXZVizbXHC"
   },
   "source": [
    "Reference: <br>\n",
    "    University of College London Python lecture note <br>\n",
    "    MIT Python lecture note <br>\n",
    "    Scipy lecture notes (http://scipy-lectures.org/index.html)\n",
    "    Jupyter notebook \n",
    "    (https://jupyter-notebook.readthedocs.io/en/stable/index.html)"
   ]
  },
  {
   "cell_type": "markdown",
   "metadata": {
    "id": "IyQ9bkQRbXHD"
   },
   "source": [
    "#### Exercise\n",
    "Write a program that calculates and plots the vertical profile of atmospheric pressure.\n",
    "- First, import necessary modules"
   ]
  },
  {
   "cell_type": "code",
   "execution_count": null,
   "metadata": {
    "id": "jOEIulk3bXHE"
   },
   "outputs": [],
   "source": []
  },
  {
   "cell_type": "markdown",
   "metadata": {
    "id": "KWAkajRLbXHE"
   },
   "source": [
    "Calculate the Scale Height H. Use the following values: <br>\n",
    "Rd = 287. (J/kgK) <br>\n",
    "T = 250. <br>\n",
    "g = 9.81 <br>\n",
    "\n",
    "First define constants, and then create a variable H (Rd*T/g)."
   ]
  },
  {
   "cell_type": "code",
   "execution_count": null,
   "metadata": {
    "id": "msk9ICB3bXHF"
   },
   "outputs": [],
   "source": []
  },
  {
   "cell_type": "markdown",
   "metadata": {
    "id": "jrFSH75KbXHF"
   },
   "source": [
    "Make an array for the height (z) from 0 to 20000 m (increment 100 m)."
   ]
  },
  {
   "cell_type": "code",
   "execution_count": null,
   "metadata": {
    "id": "w5I_7FrAbXHG"
   },
   "outputs": [],
   "source": []
  },
  {
   "cell_type": "markdown",
   "metadata": {
    "id": "CCUySpbLbXHG"
   },
   "source": [
    "Define surface pressure p0 = 100000 Pa."
   ]
  },
  {
   "cell_type": "code",
   "execution_count": null,
   "metadata": {
    "id": "awox_dUmbXHG"
   },
   "outputs": [],
   "source": []
  },
  {
   "cell_type": "markdown",
   "metadata": {
    "id": "4ftWJxLWbXHH"
   },
   "source": [
    "Calculate p = p0.exp(-z/H). Note that you need to use numpy function to calculate exponential (e.g. np.exp(1.))."
   ]
  },
  {
   "cell_type": "code",
   "execution_count": null,
   "metadata": {
    "id": "zBlXWx6XbXHH"
   },
   "outputs": [],
   "source": []
  },
  {
   "cell_type": "markdown",
   "metadata": {
    "id": "zAL0UFCkbXHI"
   },
   "source": [
    "Creat a plot (Use p/100 (hPa) and z/1000 (km) as a y-axis)"
   ]
  },
  {
   "cell_type": "code",
   "execution_count": null,
   "metadata": {
    "id": "1m3u_slVbXHI"
   },
   "outputs": [],
   "source": []
  },
  {
   "cell_type": "markdown",
   "metadata": {
    "id": "4puQxL8abXHI"
   },
   "source": [
    "## Python program"
   ]
  },
  {
   "cell_type": "markdown",
   "metadata": {
    "id": "TPN6Qn96bXHJ"
   },
   "source": [
    "Till now, we are only entering commands interactively in the interpreter.\n",
    "It is always better to write everything in a file and run it (imagine you want to re-run the same things later, or with different parameters).\n",
    "A python program is just a text file containing python instructions, with the extension .py. <br>\n",
    "You run it by typing python myProgram.py in your interpreter. <br>\n",
    "Or directly from within ipython: type  <br>\n",
    "%run myProgram.py <br>"
   ]
  },
  {
   "cell_type": "markdown",
   "metadata": {
    "id": "Cq6exR3RbXHK"
   },
   "source": [
    "# Lists\n",
    "\n",
    "- Compound data type used to group together\n",
    "> list1 = ['first', 'second', 'third'] <br>\n",
    "> list2 = [1, 2, 3] <br>\n",
    "> list3 = ['pi', 3.1415925, 'answer', 42] <br>\n",
    "> empyList = [ ] <br>\n",
    "- Values don't have to be of the same type\n",
    "- Lists can be modified after creation (they are mutable)\n",
    "- Elements can be changed, added, and deleted\n",
    "- Lists are versatile and are used extensively in typical python code"
   ]
  },
  {
   "cell_type": "markdown",
   "metadata": {
    "id": "1dXgexRCbXHK"
   },
   "source": [
    "## Lists: Accessing Elements\n",
    "- Individual list elements can be retrieved by providing the position of the item to be retrieved in square brackets [ ]\n",
    ">        0     1     2\n",
    "> list1 = ['first','second','third']\n",
    ">       -3    -2    -1\n",
    "- Indexing starts at 0\n",
    "- Negative indexes go backwards from the end\n",
    "- Individual list elements can be retrieved by providing the position of the item to be retrieved in square brackets [ ]"
   ]
  },
  {
   "cell_type": "code",
   "execution_count": null,
   "metadata": {
    "id": "APiLvqKrbXHL",
    "outputId": "13827c88-070d-4504-fc85-1ff2c87852ea"
   },
   "outputs": [
    {
     "name": "stdout",
     "output_type": "stream",
     "text": [
      "first\n",
      "third\n"
     ]
    }
   ],
   "source": [
    "list1 = ['first','second','third']\n",
    "print(list1[0])\n",
    "print(list1[-1])"
   ]
  },
  {
   "cell_type": "code",
   "execution_count": null,
   "metadata": {
    "id": "tfZ-EC0HbXHM",
    "outputId": "afbe052a-0297-4d3b-b393-e42d9d938127"
   },
   "outputs": [
    {
     "name": "stdout",
     "output_type": "stream",
     "text": [
      "pi is roughtly 3.141592\n"
     ]
    }
   ],
   "source": [
    "list3 = ['pi', 3.1415925, 'answer', 42] \n",
    "print(\"%s is roughtly %f\" % (list3[0],list3[1]))"
   ]
  },
  {
   "cell_type": "markdown",
   "metadata": {
    "id": "yZyY3DkZbXHN"
   },
   "source": [
    "#### Exercise\n",
    "Create list2 = [1, 2, 3] and print the last element. "
   ]
  },
  {
   "cell_type": "code",
   "execution_count": null,
   "metadata": {
    "id": "62V8Y82tbXHN"
   },
   "outputs": [],
   "source": []
  },
  {
   "cell_type": "markdown",
   "metadata": {
    "id": "RUIR05QCbXHO"
   },
   "source": [
    "## List: Length\n",
    "- The length of a list can be determined using the len( ) function"
   ]
  },
  {
   "cell_type": "code",
   "execution_count": null,
   "metadata": {
    "id": "-5aLQ8VSbXHO",
    "outputId": "84244bf6-eb93-455f-bd4a-da11f2bc434f"
   },
   "outputs": [
    {
     "data": {
      "text/plain": [
       "3"
      ]
     },
     "execution_count": 14,
     "metadata": {
      "tags": []
     },
     "output_type": "execute_result"
    }
   ],
   "source": [
    "len(list1)"
   ]
  },
  {
   "cell_type": "markdown",
   "metadata": {
    "id": "w_M68ADjbXHP"
   },
   "source": [
    "### Exercise\n",
    "Print the leghth of list2."
   ]
  },
  {
   "cell_type": "code",
   "execution_count": null,
   "metadata": {
    "id": "mnC26N3tbXHP"
   },
   "outputs": [],
   "source": []
  },
  {
   "cell_type": "markdown",
   "metadata": {
    "id": "egYsxb1abXHP"
   },
   "source": [
    "- Trying to retrieve an item past the end throws an IndexError."
   ]
  },
  {
   "cell_type": "code",
   "execution_count": null,
   "metadata": {
    "id": "YZaKTlY-bXHQ",
    "outputId": "84e39b94-8022-4c8c-b36a-588ac3e06243"
   },
   "outputs": [
    {
     "ename": "IndexError",
     "evalue": "list index out of range",
     "output_type": "error",
     "traceback": [
      "\u001b[0;31m---------------------------------------------------------------------------\u001b[0m",
      "\u001b[0;31mIndexError\u001b[0m                                Traceback (most recent call last)",
      "\u001b[0;32m<ipython-input-15-831b15cbf272>\u001b[0m in \u001b[0;36m<module>\u001b[0;34m\u001b[0m\n\u001b[0;32m----> 1\u001b[0;31m \u001b[0mlist1\u001b[0m\u001b[0;34m[\u001b[0m\u001b[0;36m3\u001b[0m\u001b[0;34m]\u001b[0m\u001b[0;34m\u001b[0m\u001b[0;34m\u001b[0m\u001b[0m\n\u001b[0m",
      "\u001b[0;31mIndexError\u001b[0m: list index out of range"
     ]
    }
   ],
   "source": [
    "list1[3]"
   ]
  },
  {
   "cell_type": "markdown",
   "metadata": {
    "id": "4EJFi2rgbXHQ"
   },
   "source": [
    "## Lists: Changing items\n",
    "- Items can be modified by using the [ ] notation on the left-hand side of an assignment"
   ]
  },
  {
   "cell_type": "code",
   "execution_count": null,
   "metadata": {
    "id": "V6wpyMC3bXHR",
    "outputId": "3d4c77d8-40cb-497a-cd96-aeab44d3bf4f"
   },
   "outputs": [
    {
     "name": "stdout",
     "output_type": "stream",
     "text": [
      "pi is roughtly 3.141592\n",
      "pi is roughtly 3.140000\n"
     ]
    }
   ],
   "source": [
    "print(\"%s is roughtly %f\" % (list3[0],list3[1]))\n",
    "list3[1]=3.14\n",
    "print(\"%s is roughtly %f\" % (list3[0],list3[1]))"
   ]
  },
  {
   "cell_type": "markdown",
   "metadata": {
    "id": "V_ytNgbcbXHR"
   },
   "source": [
    "## Lists: Appending and Extending\n",
    "- An item can be appended to the end of a list using append"
   ]
  },
  {
   "cell_type": "code",
   "execution_count": null,
   "metadata": {
    "id": "QIUMQZJYbXHS",
    "outputId": "45d5236f-6c23-4612-9e8d-1e755839c5f0"
   },
   "outputs": [
    {
     "name": "stdout",
     "output_type": "stream",
     "text": [
      "5\n",
      "fourth\n",
      "6\n"
     ]
    }
   ],
   "source": [
    "print(len(list1))\n",
    "list1.append('fourth')\n",
    "print(list1[-1])\n",
    "print(len(list1))"
   ]
  },
  {
   "cell_type": "markdown",
   "metadata": {
    "id": "v13ERbDybXHT"
   },
   "source": [
    "- A list of items can be appended to the end of a list using extend"
   ]
  },
  {
   "cell_type": "code",
   "execution_count": null,
   "metadata": {
    "id": "djnS3tOIbXHU",
    "outputId": "02591747-3cd7-450b-9983-a4b59b069c4a"
   },
   "outputs": [
    {
     "name": "stdout",
     "output_type": "stream",
     "text": [
      "['first', 'second', 'third', 'fouth', 'fouth', 'fourth', 'fifth', 'sixth']\n"
     ]
    }
   ],
   "source": [
    "list1.extend([\"fifth\",\"sixth\"])\n",
    "print(list1)"
   ]
  },
  {
   "cell_type": "markdown",
   "metadata": {
    "id": "guRKRmDkbXHV"
   },
   "source": [
    "## Lists: Slicing\n",
    "- A copy of a sublist can be created using the slice operator\n",
    "> list[start:end]\n",
    "- The elements at the index start is included, the one at end is excluded <br>\n",
    "- Both indices can be ommitted, defaulting to the start and end of the list respectively <br>"
   ]
  },
  {
   "cell_type": "code",
   "execution_count": null,
   "metadata": {
    "id": "OdITUTyBbXHW",
    "outputId": "56003fb7-3dbe-4253-b48b-9c2f30d6646d"
   },
   "outputs": [
    {
     "name": "stdout",
     "output_type": "stream",
     "text": [
      "['first']\n",
      "['second', 'third']\n",
      "['first', 'second']\n",
      "['second', 'third', 'fouth', 'fouth', 'fourth', 'fifth', 'sixth']\n",
      "['first', 'second', 'third', 'fouth', 'fouth', 'fourth', 'fifth', 'sixth']\n"
     ]
    }
   ],
   "source": [
    "print(list1[0:1])\n",
    "print(list1[1:3])\n",
    "print(list1[:2])\n",
    "print(list1[1:])\n",
    "print(list1[:])"
   ]
  },
  {
   "cell_type": "markdown",
   "metadata": {
    "id": "c96GnJLabXHX"
   },
   "source": [
    "#### Exercise\n",
    "Run the following cell. This is observed tropical specific humidity."
   ]
  },
  {
   "cell_type": "code",
   "execution_count": null,
   "metadata": {
    "id": "MJIvmGHPbXHX"
   },
   "outputs": [],
   "source": [
    "# Mean specific humidity in the tropics (g/kg)\n",
    "q = [16.8,12.9,9.4,6.2,4.4,2.5,1.8,1.2,0.6,0.2]\n",
    "# Height (km)\n",
    "h = [0,1,2,3,4,5,6,7,8,9]"
   ]
  },
  {
   "cell_type": "markdown",
   "metadata": {
    "id": "6cXqS8QjbXHY"
   },
   "source": [
    "#### Exercise\n",
    "Print the first element in q and h."
   ]
  },
  {
   "cell_type": "code",
   "execution_count": null,
   "metadata": {
    "id": "Ja-mFVKdbXHZ"
   },
   "outputs": [],
   "source": []
  },
  {
   "cell_type": "markdown",
   "metadata": {
    "id": "iGdI7BnDbXHZ"
   },
   "source": [
    "#### Exercise\n",
    "Print the third element in q and h."
   ]
  },
  {
   "cell_type": "code",
   "execution_count": null,
   "metadata": {
    "id": "wt5BYz3YbXHZ"
   },
   "outputs": [],
   "source": []
  },
  {
   "cell_type": "markdown",
   "metadata": {
    "id": "zsOZPDmmbXHa"
   },
   "source": [
    "#### Exercise\n",
    "Print the last element in h."
   ]
  },
  {
   "cell_type": "code",
   "execution_count": null,
   "metadata": {
    "id": "pTMmj5n9bXHb"
   },
   "outputs": [],
   "source": []
  },
  {
   "cell_type": "markdown",
   "metadata": {
    "id": "GkSW8Bh-bXHb"
   },
   "source": [
    "#### Exercise\n",
    "Create a plot (x axis:q; y axis: h)"
   ]
  },
  {
   "cell_type": "code",
   "execution_count": null,
   "metadata": {
    "id": "4zqJW6BbbXHb"
   },
   "outputs": [],
   "source": []
  },
  {
   "cell_type": "code",
   "execution_count": null,
   "metadata": {
    "id": "7a9sDIelbXHi"
   },
   "outputs": [],
   "source": []
  }
 ],
 "metadata": {
  "colab": {
   "collapsed_sections": [
    "yZyY3DkZbXHN",
    "c96GnJLabXHX",
    "6cXqS8QjbXHY",
    "iGdI7BnDbXHZ",
    "zsOZPDmmbXHa"
   ],
   "name": "04_list.ipynb",
   "provenance": []
  },
  "kernelspec": {
   "display_name": "Python 3",
   "language": "python",
   "name": "python3"
  },
  "language_info": {
   "codemirror_mode": {
    "name": "ipython",
    "version": 3
   },
   "file_extension": ".py",
   "mimetype": "text/x-python",
   "name": "python",
   "nbconvert_exporter": "python",
   "pygments_lexer": "ipython3",
   "version": "3.9.12"
  }
 },
 "nbformat": 4,
 "nbformat_minor": 1
}
