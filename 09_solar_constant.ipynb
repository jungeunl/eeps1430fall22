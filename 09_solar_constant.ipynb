{
 "cells": [
  {
   "cell_type": "markdown",
   "metadata": {},
   "source": [
    "# Importing Python modules\n",
    "\n",
    "### When you use JupyterHub (For this class)\n",
    "\n",
    "Click the upload file icon (upper left, thick arrow). <br>\n",
    "Choose a file that you would like to upload. <br>\n",
    "(You don't need the following information unless you use Python or Jupyter Notebook installed on your computer) <br>\n",
    "### When you use Python or Jupyter Notebook installed on your computer\n",
    "\n",
    "- If the file is in the same directory that your Python or Jupyter Notebook file, you can just  import the file without adding .py\n",
    "> import module_name\n",
    "- If the file is in a different directory, you have to specify the location. Do so in one of the following methods:\n",
    "\n",
    "#### (1) Modifying Unix Environment\n",
    "> You can change your Unix Shell file (.bashrc for example; useful when you specified a directory for useful modules) <br>\n",
    "> Linux & OSX <br>\n",
    "> export PYTHONPATH=\\\\$HOME/dirWithScripts/:$PYTHONPATH <br>\n",
    "> Windows <br>\n",
    "> set PYTHONPATH=C:\\path\\to\\dirWithScripts\\;%PYTHONPATH%\n",
    "\n",
    "#### (2) Add the directory in the program\n",
    "> import sys\n",
    "> sys.path.append('file location') (e.g. sys.path.append(/Users/jungeunl/Cycad/class/))"
   ]
  },
  {
   "cell_type": "markdown",
   "metadata": {},
   "source": [
    "## Calculate solar constant for each planet\n",
    "### Uploading a module on Jupyter Hub\n",
    "planets.py ontains basic planetary data. Download the file from Canvas /files/python directory. <br>\n",
    "Click the upload file icon (upper left, thick arrow). <br>\n",
    "Choose planets.py to upload. <br>"
   ]
  },
  {
   "cell_type": "markdown",
   "metadata": {},
   "source": [
    "First Let's import the module"
   ]
  },
  {
   "cell_type": "code",
   "execution_count": 4,
   "metadata": {},
   "outputs": [],
   "source": [
    "from planets import *"
   ]
  },
  {
   "cell_type": "markdown",
   "metadata": {},
   "source": [
    "The values we need are:\n",
    "> Temperature of the Sun (Tsun): 5800K <br>\n",
    "> Radius of the Sun (Rsun): 694.e6 (m) <br>\n",
    "> Stefan–Boltzmann constant (sigma): 5.67e-8 (W/m2/K4) <br>"
   ]
  },
  {
   "cell_type": "markdown",
   "metadata": {},
   "source": [
    "Define Tsun, Rsun, and sigma."
   ]
  },
  {
   "cell_type": "code",
   "execution_count": 8,
   "metadata": {},
   "outputs": [],
   "source": [
    "Tsun=5800\n",
    "Rsun=694.e6\n",
    "sigma=5.67e-8"
   ]
  },
  {
   "cell_type": "markdown",
   "metadata": {},
   "source": [
    "Let's start with Earth.\n",
    "The only information that we need now is the distance from the Sun to Earth.\n",
    "This is how to retrieve that information."
   ]
  },
  {
   "cell_type": "code",
   "execution_count": 14,
   "metadata": {},
   "outputs": [
    {
     "name": "stdout",
     "output_type": "stream",
     "text": [
      "149600000000.0\n"
     ]
    }
   ],
   "source": [
    "print(Earth.rsm)"
   ]
  },
  {
   "cell_type": "markdown",
   "metadata": {},
   "source": [
    "Define distance as Earth.rsm and print."
   ]
  },
  {
   "cell_type": "code",
   "execution_count": 15,
   "metadata": {
    "scrolled": true
   },
   "outputs": [
    {
     "name": "stdout",
     "output_type": "stream",
     "text": [
      "149600000000.0\n"
     ]
    }
   ],
   "source": [
    "distance = Earth.rsm\n",
    "print (distance)"
   ]
  },
  {
   "cell_type": "markdown",
   "metadata": {},
   "source": [
    "Calculate solar constant, S for Earth and print. "
   ]
  },
  {
   "cell_type": "code",
   "execution_count": 17,
   "metadata": {},
   "outputs": [
    {
     "name": "stdout",
     "output_type": "stream",
     "text": [
      "1380.8636170820728\n"
     ]
    }
   ],
   "source": [
    "S = sigma*Tsun**4*Rsun**2/distance**2\n",
    "print (S)"
   ]
  },
  {
   "cell_type": "markdown",
   "metadata": {},
   "source": [
    "This time let's try to calculate solar constants for Earth and Venus. <br>"
   ]
  },
  {
   "cell_type": "markdown",
   "metadata": {},
   "source": [
    "### For loops\n",
    "A for loop is used for iterating over a sequence. "
   ]
  },
  {
   "cell_type": "markdown",
   "metadata": {},
   "source": [
    "#### Example\n",
    "Print each fruit in a fruit list: <br>\n",
    "\n",
    "> fruits = [\"apple\", \"banana\", \"cherry\"] <br>\n",
    "> for x in fruits: <br>\n",
    "> >print(x) <br>\n",
    "\n",
    "Note the colon and indentation."
   ]
  },
  {
   "cell_type": "markdown",
   "metadata": {},
   "source": [
    "To calculate solar constants for Earth and Venus, Let's create a list Planets with two elements (Earth, Venus)."
   ]
  },
  {
   "cell_type": "code",
   "execution_count": 21,
   "metadata": {},
   "outputs": [],
   "source": [
    "Planets=[Earth, Venus]"
   ]
  },
  {
   "cell_type": "markdown",
   "metadata": {},
   "source": [
    "Then, solar constants can be calculated as the following"
   ]
  },
  {
   "cell_type": "code",
   "execution_count": 22,
   "metadata": {},
   "outputs": [
    {
     "name": "stdout",
     "output_type": "stream",
     "text": [
      "Earth distance from the Sun = 149600000000.0\n",
      "Earth Solar Const = 1380.8636170820728\n",
      "Venus distance from the Sun = 108210000000.0\n",
      "Venus Solar Const = 2639.2417944202234\n"
     ]
    }
   ],
   "source": [
    "for p in Planets:\n",
    "    distance=p.rsm\n",
    "    print (p.name,'distance from the Sun =', distance)\n",
    "    S=sigma*Tsun**4*Rsun**2/distance**2\n",
    "    print (p.name, 'Solar Const =', S)"
   ]
  },
  {
   "cell_type": "markdown",
   "metadata": {},
   "source": [
    "#### Exercise\n",
    "Calculate solar constants for at least 5 planets."
   ]
  },
  {
   "cell_type": "code",
   "execution_count": null,
   "metadata": {},
   "outputs": [],
   "source": []
  },
  {
   "cell_type": "markdown",
   "metadata": {},
   "source": [
    "#### Exercise\n",
    "Calculate equlibrium temperature of all the planets you used above."
   ]
  },
  {
   "cell_type": "code",
   "execution_count": null,
   "metadata": {},
   "outputs": [],
   "source": []
  }
 ],
 "metadata": {
  "kernelspec": {
   "display_name": "Python 3",
   "language": "python",
   "name": "python3"
  },
  "language_info": {
   "codemirror_mode": {
    "name": "ipython",
    "version": 3
   },
   "file_extension": ".py",
   "mimetype": "text/x-python",
   "name": "python",
   "nbconvert_exporter": "python",
   "pygments_lexer": "ipython3",
   "version": "3.9.12"
  }
 },
 "nbformat": 4,
 "nbformat_minor": 2
}
