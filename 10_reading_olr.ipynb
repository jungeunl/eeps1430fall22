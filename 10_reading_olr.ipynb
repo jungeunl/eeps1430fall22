{
 "cells": [
  {
   "cell_type": "markdown",
   "metadata": {},
   "source": [
    "# Reading a file"
   ]
  },
  {
   "cell_type": "markdown",
   "metadata": {},
   "source": [
    "Pandas (Python Data Analysis Library) takes data (like a CSV file or a SQL database) and creates a Python object with rows and columns called data frame."
   ]
  },
  {
   "cell_type": "markdown",
   "metadata": {},
   "source": [
    "First, we have to upload the data (OLR1986.txt in Canvas/files/python; first download and upload it on JupyterHub). This file include OLR for each latitude."
   ]
  },
  {
   "cell_type": "markdown",
   "metadata": {},
   "source": [
    "Next, let's import the necessary modules."
   ]
  },
  {
   "cell_type": "code",
   "execution_count": 1,
   "metadata": {},
   "outputs": [],
   "source": [
    "import pandas as pd\n",
    "import matplotlib.pyplot as plt"
   ]
  },
  {
   "cell_type": "markdown",
   "metadata": {},
   "source": [
    "We can read csv and other text files using the read_csv module. In our file, the values are separated by space, we have to specify that.\n",
    "> pd.read_csv(filename, sep = \"\\t\")"
   ]
  },
  {
   "cell_type": "code",
   "execution_count": 42,
   "metadata": {},
   "outputs": [],
   "source": [
    "filename ='OLR1986.txt'\n",
    "df1 = pd.read_csv(filename, sep = \"\\t\")"
   ]
  },
  {
   "cell_type": "markdown",
   "metadata": {},
   "source": [
    "Print firt 2 lines."
   ]
  },
  {
   "cell_type": "code",
   "execution_count": 43,
   "metadata": {},
   "outputs": [
    {
     "name": "stdout",
     "output_type": "stream",
     "text": [
      "     lat       Jan       Feb      Mar       Apr       May       Jun       Jul  \\\n",
      "0  88.75  154.7000  155.2000  166.900  180.1000  194.3000  212.7000  217.2000   \n",
      "1  86.25  156.0736  157.3396  166.891  179.9505  193.1991  212.7257  216.0731   \n",
      "\n",
      "        Aug      Sept       Oct       Nov       Dec       Ann  \n",
      "0  211.3000  201.8000  183.7000  171.2000  165.3000  184.5333  \n",
      "1  212.6137  200.9826  184.8917  171.2938  165.7028  184.8114  \n"
     ]
    }
   ],
   "source": [
    "print (df1.head(2))"
   ]
  },
  {
   "cell_type": "markdown",
   "metadata": {},
   "source": [
    "Header becomes the variable name, e.g., df['lat']"
   ]
  },
  {
   "cell_type": "code",
   "execution_count": 62,
   "metadata": {},
   "outputs": [
    {
     "name": "stdout",
     "output_type": "stream",
     "text": [
      "88.75\n"
     ]
    }
   ],
   "source": [
    "print(df1['lat'][0])"
   ]
  },
  {
   "cell_type": "markdown",
   "metadata": {},
   "source": [
    "## Making a plot \n",
    "(x: lat, y: Jan)"
   ]
  },
  {
   "cell_type": "code",
   "execution_count": 45,
   "metadata": {},
   "outputs": [
    {
     "data": {
      "text/plain": [
       "Text(0.5, 1.0, 'January')"
      ]
     },
     "execution_count": 45,
     "metadata": {},
     "output_type": "execute_result"
    },
    {
     "data": {
      "image/png": "[encoded data removed]",
      "text/plain": [
       "<Figure size 432x288 with 1 Axes>"
      ]
     },
     "metadata": {
      "needs_background": "light"
     },
     "output_type": "display_data"
    }
   ],
   "source": [
    "plt.plot(df1[\"lat\"],df1[\"Jan\"])\n",
    "plt.xlabel('Latitude')\n",
    "plt.ylabel('Ourgoing Longwave radiation (W/m2)')\n",
    "plt.title('January')"
   ]
  },
  {
   "cell_type": "markdown",
   "metadata": {},
   "source": [
    "#### Exercise\n",
    "Make a plot between latitude and July mean OLR."
   ]
  },
  {
   "cell_type": "code",
   "execution_count": null,
   "metadata": {},
   "outputs": [],
   "source": []
  },
  {
   "cell_type": "markdown",
   "metadata": {},
   "source": [
    "#### Exercise\n",
    "Upload and read a file TsBar1986.txt and print first 3 rows. This file includes surface average temperature for each latitude. Use df2 for this data file. "
   ]
  },
  {
   "cell_type": "code",
   "execution_count": 48,
   "metadata": {},
   "outputs": [
    {
     "name": "stdout",
     "output_type": "stream",
     "text": [
      "     lat       Jan       Feb       Mar       Apr       May       Jun  \\\n",
      "0  88.75  239.6939  239.5680  238.1499  247.5586  264.0453  273.2372   \n",
      "1  86.25  239.2225  240.0608  238.6538  247.9755  264.1192  273.1390   \n",
      "2  83.75  239.7599  241.3553  240.2787  249.2638  264.3844  272.9272   \n",
      "\n",
      "        Jul       Aug      Sept       Oct       Nov       Dec  \n",
      "0  274.1495  272.6461  261.3429  253.2227  247.6529  247.0806  \n",
      "1  274.2303  272.7426  261.5632  252.3560  247.1145  245.6903  \n",
      "2  274.3122  272.7556  262.3184  252.2270  247.2390  244.8942  \n"
     ]
    }
   ],
   "source": []
  },
  {
   "cell_type": "markdown",
   "metadata": {},
   "source": [
    "#### Exercise\n",
    "Make a plot between latitude and January surface temperature."
   ]
  },
  {
   "cell_type": "code",
   "execution_count": null,
   "metadata": {},
   "outputs": [],
   "source": []
  },
  {
   "cell_type": "markdown",
   "metadata": {},
   "source": [
    "#### Exercise\n",
    "Make a plot between latitude and July surface temperature."
   ]
  },
  {
   "cell_type": "code",
   "execution_count": null,
   "metadata": {},
   "outputs": [],
   "source": []
  },
  {
   "cell_type": "markdown",
   "metadata": {},
   "source": [
    "Calculate January longwave radiation (slr1) from the surface. It can be calculated as \n",
    " $\\sigma T_s^4$."
   ]
  },
  {
   "cell_type": "code",
   "execution_count": 55,
   "metadata": {},
   "outputs": [],
   "source": [
    "sigma=5.67e-8\n",
    "slr1=sigma*df2[\"Jan\"]**4"
   ]
  },
  {
   "cell_type": "markdown",
   "metadata": {},
   "source": [
    "Make a plot between latitude and slr1."
   ]
  },
  {
   "cell_type": "code",
   "execution_count": 57,
   "metadata": {},
   "outputs": [
    {
     "data": {
      "text/plain": [
       "Text(0.5, 1.0, 'January')"
      ]
     },
     "execution_count": 57,
     "metadata": {},
     "output_type": "execute_result"
    },
    {
     "data": {
      "image/png": "[encoded data removed]",
      "text/plain": [
       "<Figure size 432x288 with 1 Axes>"
      ]
     },
     "metadata": {
      "needs_background": "light"
     },
     "output_type": "display_data"
    }
   ],
   "source": [
    "plt.plot(df2[\"lat\"],slr1)\n",
    "plt.xlabel(\"Latitude\")\n",
    "plt.ylabel(\"Longwave Radiation from Surface (W/m2)\")\n",
    "plt.title(\"January\")"
   ]
  },
  {
   "cell_type": "markdown",
   "metadata": {},
   "source": [
    "#### Exercise\n",
    "Calculate July longwave radiation from the surface (slr7) and make a plot between latitude and slr7."
   ]
  },
  {
   "cell_type": "code",
   "execution_count": null,
   "metadata": {},
   "outputs": [],
   "source": []
  },
  {
   "cell_type": "markdown",
   "metadata": {},
   "source": [
    "Let's compare OLR and longwave radiation from the surface for January."
   ]
  },
  {
   "cell_type": "code",
   "execution_count": 60,
   "metadata": {},
   "outputs": [
    {
     "data": {
      "text/plain": [
       "<matplotlib.legend.Legend at 0x11d9eab70>"
      ]
     },
     "execution_count": 60,
     "metadata": {},
     "output_type": "execute_result"
    },
    {
     "data": {
      "image/png": "[encoded data removed]",
      "text/plain": [
       "<Figure size 432x288 with 1 Axes>"
      ]
     },
     "metadata": {
      "needs_background": "light"
     },
     "output_type": "display_data"
    }
   ],
   "source": [
    "plt.plot(df1[\"lat\"],df1[\"Jan\"],label=\"OLR\")\n",
    "plt.plot(df2[\"lat\"],sigma*df2[\"Jan\"]**4,label=\"LR from Surface\")\n",
    "plt.xlabel('Latitude')\n",
    "plt.ylabel('Longwave radiation (W/m2)')\n",
    "plt.title('January')\n",
    "plt.legend()"
   ]
  },
  {
   "cell_type": "markdown",
   "metadata": {},
   "source": [
    "#### Exercise \n",
    "Make a similar figure using July values."
   ]
  },
  {
   "cell_type": "code",
   "execution_count": null,
   "metadata": {},
   "outputs": [],
   "source": []
  }
 ],
 "metadata": {
  "kernelspec": {
   "display_name": "Python 3",
   "language": "python",
   "name": "python3"
  },
  "language_info": {
   "codemirror_mode": {
    "name": "ipython",
    "version": 3
   },
   "file_extension": ".py",
   "mimetype": "text/x-python",
   "name": "python",
   "nbconvert_exporter": "python",
   "pygments_lexer": "ipython3",
   "version": "3.9.12"
  }
 },
 "nbformat": 4,
 "nbformat_minor": 4
}
