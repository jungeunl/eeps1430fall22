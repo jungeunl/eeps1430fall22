{
 "cells": [
  {
   "cell_type": "markdown",
   "metadata": {},
   "source": [
    "## The Planck function\n",
    "The blackbody spectral flux intensity (or spectral radiance), $B_\\lambda$:"
   ]
  },
  {
   "cell_type": "markdown",
   "metadata": {},
   "source": [
    "> $\\displaystyle B_{\\lambda} = \\frac{c_1\\lambda^{-5}}{\\pi(e^{c_2/\\lambda T}-1)}$ <br>\n",
    " <br>\n",
    "> $c_1=3.74* 10^{-16}$ W $\\cdot$ m$^2$ <br>\n",
    "> $c_2=1.45* 10^{-2}$ m $\\cdot$ K <br>\n",
    "> $\\lambda$: wavelength <br>\n",
    "> $T$: temperature"
   ]
  },
  {
   "cell_type": "markdown",
   "metadata": {},
   "source": [
    "#### Exercise\n",
    "Create a function, planck, that calculates\n",
    "spectral radiance (W/m2/μm) \n",
    "using wavelength (μm) and temperature (K) as inputs."
   ]
  },
  {
   "cell_type": "code",
   "execution_count": null,
   "metadata": {
    "collapsed": true,
    "jupyter": {
     "outputs_hidden": true
    }
   },
   "outputs": [],
   "source": []
  },
  {
   "cell_type": "markdown",
   "metadata": {},
   "source": [
    "### Sun\n",
    "Use 6000K as the Sun's temperature. What is the spectral radiance for the yellow light (580nm)? <br>\n",
    "How about the red light (660nm) and infrared (10${\\mu}$m)? Please calculate using the above function."
   ]
  },
  {
   "cell_type": "code",
   "execution_count": null,
   "metadata": {
    "jupyter": {
     "outputs_hidden": true
    }
   },
   "outputs": [],
   "source": []
  },
  {
   "cell_type": "markdown",
   "metadata": {},
   "source": [
    "### Earth\n",
    "Use 300K as the Earth's temperature. What is the spectral radiance for the yellow light (~580nm)? How about the red light (~660nm) and infrared (10$\\mu$m)? Please calculate using the above function."
   ]
  },
  {
   "cell_type": "code",
   "execution_count": null,
   "metadata": {
    "collapsed": true,
    "jupyter": {
     "outputs_hidden": true
    }
   },
   "outputs": [],
   "source": []
  },
  {
   "cell_type": "markdown",
   "metadata": {},
   "source": [
    "Let's calculate radiance for a range of wavelength. \n",
    "First, let's create an array for the wavelength x (μm). Let's use from 0.1 to 100 μm, with an increment of 0.01μm."
   ]
  },
  {
   "cell_type": "code",
   "execution_count": null,
   "metadata": {
    "collapsed": true,
    "jupyter": {
     "outputs_hidden": true
    }
   },
   "outputs": [],
   "source": []
  },
  {
   "cell_type": "markdown",
   "metadata": {},
   "source": [
    "Calculate the Sun's spectral raiance B_sun for all x's."
   ]
  },
  {
   "cell_type": "code",
   "execution_count": null,
   "metadata": {
    "collapsed": true,
    "jupyter": {
     "outputs_hidden": true
    }
   },
   "outputs": [],
   "source": []
  },
  {
   "cell_type": "markdown",
   "metadata": {},
   "source": [
    "Calculate the Earth's spectral raiance B_earth for all x's."
   ]
  },
  {
   "cell_type": "code",
   "execution_count": null,
   "metadata": {
    "collapsed": true,
    "jupyter": {
     "outputs_hidden": true
    }
   },
   "outputs": [],
   "source": []
  },
  {
   "cell_type": "markdown",
   "metadata": {},
   "source": [
    "Create plots between wavelength (x) and radiance (B_sun and B_earth). Label axes."
   ]
  },
  {
   "cell_type": "code",
   "execution_count": null,
   "metadata": {
    "collapsed": true,
    "jupyter": {
     "outputs_hidden": true
    }
   },
   "outputs": [],
   "source": []
  }
 ],
 "metadata": {
  "kernelspec": {
   "display_name": "Python 3",
   "language": "python",
   "name": "python3"
  },
  "language_info": {
   "codemirror_mode": {
    "name": "ipython",
    "version": 3
   },
   "file_extension": ".py",
   "mimetype": "text/x-python",
   "name": "python",
   "nbconvert_exporter": "python",
   "pygments_lexer": "ipython3",
   "version": "3.9.12"
  }
 },
 "nbformat": 4,
 "nbformat_minor": 4
}
