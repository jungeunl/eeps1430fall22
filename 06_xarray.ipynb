{
 "cells": [
  {
   "cell_type": "markdown",
   "metadata": {
    "id": "FzT_yr4LqOJS"
   },
   "source": [
    "# Reading a NetCDF file using xarray\n"
   ]
  },
  {
   "cell_type": "markdown",
   "metadata": {
    "id": "IOTpnM7XqOJV"
   },
   "source": [
    "NetCDF (Network Common Data Form) is a set of software libraries and machine-independent data formats that support the creation, access, and sharing of array-oriented scientific data. It is also a community standard for sharing scientific data. Please go to https://www.unidata.ucar.edu/software/netcdf/ for more information. </br>\n"
   ]
  },
  {
   "cell_type": "markdown",
   "metadata": {
    "id": "8s-iUAJfqOJW"
   },
   "source": [
    "### xarray </br>\n",
    "N-D labeled arrays and datasets in Python </br>\n",
    "\n",
    "Xarray is a Python package that makes working with labelled multi-dimensional arrays simple, efficient, and fun!\n",
    "More information in http://xarray.pydata.org/en/stable/index.html .\n",
    "\n",
    "#### DataArray </br>\n",
    "xarray.DataArray is an implementation of a labelled, multi-dimensional array for a single variable: </br>\n",
    "values: a numpy.ndarray holding the array’s values </br>\n",
    "dims: dimension names for each axis (e.g., ('lat', 'lon', 'z', 'time')) </br>\n",
    "coords: a dict-like container of arrays (coordinates) that label each point (e.g., 1-dim arrays of numbers, DateTime objects, or strings) </br>\n",
    "attrs: an OrderedDict to hold arbitrary metadata (attributes) </br>\n",
    "#### DataSet </br>\n",
    "xarray.DataSet is a collection of DataArrays. Each NetCDF file contains a DataSet. </br>"
   ]
  },
  {
   "cell_type": "markdown",
   "metadata": {
    "id": "RNRAWjaJqOJW"
   },
   "source": [
    "### Data Import"
   ]
  },
  {
   "cell_type": "markdown",
   "metadata": {
    "id": "P6B4tzhXqOJX"
   },
   "source": [
    "Use open_dataset or open_mfdataset to read a single or multiple NetCDF files, and store it in a DataSet called DS."
   ]
  },
  {
   "cell_type": "markdown",
   "metadata": {
    "id": "v4DyGpzyqOJX"
   },
   "source": [
    "Let's read the latent heat flux data again. "
   ]
  },
  {
   "cell_type": "markdown",
   "metadata": {
    "id": "TtXZ71tNqOJX"
   },
   "source": [
    "First, let's go over how to read the NOAA data. All the available data are listed here:\n",
    "https://psl.noaa.gov/data/gridded/"
   ]
  },
  {
   "cell_type": "markdown",
   "metadata": {
    "id": "lV_0K0dCqOJY"
   },
   "source": [
    "We will use opendap to read the remote data. \n",
    "\n",
    "Some instruction is here (somewhat difficulty to follow):\n",
    "https://psl.noaa.gov/data/gridded_help/using_dods.html\n",
    "    "
   ]
  },
  {
   "cell_type": "markdown",
   "metadata": {
    "id": "LhMeITvhqOJY"
   },
   "source": [
    "You have to specify where you can find the data. You have to specify </br>\n",
    "OPeNDAP server hostname </br>\n",
    "OPeNDAP server infix </br>\n",
    "Path to dataset (a netCDF file in this case)</br>\n",
    "\n",
    "\n",
    "#### Longterm mean air temperature data at different pressure level:  \n",
    "OPeNDAP server hostname: https://psl.noaa.gov/ </br>\n",
    "OPeNDAP server infix: thredds/dodsC/ </br>\n",
    "Path to dataset: \n",
    "Datasets/ncep.reanalysis/Monthlies/pressure/air.mon.ltm.nc \n",
    "</br>\n",
    "\n",
    "For other dataset, please take a look at the catalog, and only modify the path to dataset part. </br>\n",
    "You can read this file and save it as ds1 in the following way:\n",
    "\n"
   ]
  },
  {
   "cell_type": "code",
   "execution_count": 6,
   "metadata": {
    "colab": {
     "base_uri": "https://localhost:8080/"
    },
    "executionInfo": {
     "elapsed": 1956,
     "status": "ok",
     "timestamp": 1625169720184,
     "user": {
      "displayName": "Jung-Eun Lee",
      "photoUrl": "",
      "userId": "11250111734372781440"
     },
     "user_tz": 240
    },
    "id": "fzr1AJIiqOJZ",
    "outputId": "0e99700e-96ce-444d-ece7-e19f603ff25f"
   },
   "outputs": [
    {
     "name": "stdout",
     "output_type": "stream",
     "text": [
      "<xarray.Dataset>\n",
      "Dimensions:             (level: 17, lat: 73, lon: 144, time: 12, nbnds: 2)\n",
      "Coordinates:\n",
      "  * level               (level) float32 1e+03 925.0 850.0 ... 30.0 20.0 10.0\n",
      "  * lat                 (lat) float32 90.0 87.5 85.0 82.5 ... -85.0 -87.5 -90.0\n",
      "  * lon                 (lon) float32 0.0 2.5 5.0 7.5 ... 352.5 355.0 357.5\n",
      "  * time                (time) object 0001-01-01 00:00:00 ... 0001-12-01 00:0...\n",
      "Dimensions without coordinates: nbnds\n",
      "Data variables:\n",
      "    climatology_bounds  (time, nbnds) datetime64[ns] ...\n",
      "    air                 (time, level, lat, lon) float32 ...\n",
      "    valid_yr_count      (time, level, lat, lon) float32 ...\n",
      "Attributes:\n",
      "    description:                     Data from NCEP initialized reanalysis (4...\n",
      "    platform:                       Model\n",
      "    Conventions:                    COARDS\n",
      "    NCO:                            20121012\n",
      "    history:                        Created 2021/07/26 by doMonthLTMNC4\n",
      "    title:                          monthly mean air from the NCEP Reanalysis\n",
      "    dataset_title:                  NCEP-NCAR Reanalysis 1\n",
      "    References:                     http://www.psl.noaa.gov/data/gridded/data...\n",
      "    not_missing_threshold_percent:  minimum 3% values input to have non-missi...\n"
     ]
    },
    {
     "name": "stderr",
     "output_type": "stream",
     "text": [
      "/Users/jungeunl/miniconda3/lib/python3.9/site-packages/xarray/coding/times.py:526: SerializationWarning: Unable to decode time axis into full numpy.datetime64 objects, continuing using cftime.datetime objects instead, reason: dates out of range\n",
      "  dtype = _decode_cf_datetime_dtype(data, units, calendar, self.use_cftime)\n",
      "/Users/jungeunl/miniconda3/lib/python3.9/site-packages/xarray/core/indexing.py:422: SerializationWarning: Unable to decode time axis into full numpy.datetime64 objects, continuing using cftime.datetime objects instead, reason: dates out of range\n",
      "  return np.asarray(array[self.key], dtype=None)\n"
     ]
    }
   ],
   "source": [
    "import xarray as xr\n",
    "file1='https://psl.noaa.gov/thredds/dodsC/Datasets/ncep.reanalysis/Monthlies/pressure/air.mon.ltm.nc'\n",
    "\n",
    "ds1=xr.open_dataset(file1)\n",
    "ds1.close()\n",
    "print(ds1)"
   ]
  },
  {
   "cell_type": "code",
   "execution_count": 29,
   "metadata": {
    "colab": {
     "base_uri": "https://localhost:8080/"
    },
    "executionInfo": {
     "elapsed": 234,
     "status": "ok",
     "timestamp": 1625169742965,
     "user": {
      "displayName": "Jung-Eun Lee",
      "photoUrl": "",
      "userId": "11250111734372781440"
     },
     "user_tz": 240
    },
    "id": "s-1kcSNyqOJb",
    "outputId": "522900db-bc74-433e-b21c-96dff822d535"
   },
   "outputs": [
    {
     "name": "stdout",
     "output_type": "stream",
     "text": [
      "<xarray.Dataset>\n",
      "Dimensions:             (level: 17, lat: 73, lon: 144, time: 12, nbnds: 2)\n",
      "Coordinates:\n",
      "  * level               (level) float32 1e+03 925.0 850.0 ... 30.0 20.0 10.0\n",
      "  * lat                 (lat) float32 90.0 87.5 85.0 82.5 ... -85.0 -87.5 -90.0\n",
      "  * lon                 (lon) float32 0.0 2.5 5.0 7.5 ... 352.5 355.0 357.5\n",
      "  * time                (time) object 0001-01-01 00:00:00 ... 0001-12-01 00:0...\n",
      "Dimensions without coordinates: nbnds\n",
      "Data variables:\n",
      "    climatology_bounds  (time, nbnds) datetime64[ns] ...\n",
      "    air                 (time, level, lat, lon) float32 ...\n",
      "    valid_yr_count      (time, level, lat, lon) float32 ...\n",
      "Attributes:\n",
      "    description:                     Data from NCEP initialized reanalysis (4...\n",
      "    platform:                       Model\n",
      "    Conventions:                    COARDS\n",
      "    NCO:                            20121012\n",
      "    history:                        Created 2021/07/26 by doMonthLTMNC4\n",
      "    title:                          monthly mean air from the NCEP Reanalysis\n",
      "    dataset_title:                  NCEP-NCAR Reanalysis 1\n",
      "    References:                     http://www.psl.noaa.gov/data/gridded/data...\n",
      "    not_missing_threshold_percent:  minimum 3% values input to have non-missi...\n"
     ]
    },
    {
     "name": "stderr",
     "output_type": "stream",
     "text": [
      "/Users/jungeunl/miniconda3/lib/python3.9/site-packages/xarray/coding/times.py:526: SerializationWarning: Unable to decode time axis into full numpy.datetime64 objects, continuing using cftime.datetime objects instead, reason: dates out of range\n",
      "  dtype = _decode_cf_datetime_dtype(data, units, calendar, self.use_cftime)\n",
      "/Users/jungeunl/miniconda3/lib/python3.9/site-packages/xarray/core/indexing.py:422: SerializationWarning: Unable to decode time axis into full numpy.datetime64 objects, continuing using cftime.datetime objects instead, reason: dates out of range\n",
      "  return np.asarray(array[self.key], dtype=None)\n"
     ]
    }
   ],
   "source": [
    "# this automatically closes the dataset after use\n",
    "with xr.open_dataset(file1) as ds1:      \n",
    "    print(ds1)"
   ]
  },
  {
   "cell_type": "code",
   "execution_count": 30,
   "metadata": {},
   "outputs": [],
   "source": [
    "# Assign ds1.air to ta\n",
    "ta=ds1.air"
   ]
  },
  {
   "cell_type": "markdown",
   "metadata": {},
   "source": [
    "### Make a plot\n",
    "To be able to make a line plot, the data have to be 1D. ta is a 4D variable, so we should specify 3 dimentions. Let's specify lat,lon, and time dimesions.\n"
   ]
  },
  {
   "cell_type": "code",
   "execution_count": 11,
   "metadata": {},
   "outputs": [
    {
     "data": {
      "text/html": [
       "<div><svg style=\"position: absolute; width: 0; height: 0; overflow: hidden\">\n",
       "<defs>\n",
       "<symbol id=\"icon-database\" viewBox=\"0 0 32 32\">\n",
       "<path d=\"M16 0c-8.837 0-16 2.239-16 5v4c0 2.761 7.163 5 16 5s16-2.239 16-5v-4c0-2.761-7.163-5-16-5z\"></path>\n",
       "<path d=\"M16 17c-8.837 0-16-2.239-16-5v6c0 2.761 7.163 5 16 5s16-2.239 16-5v-6c0 2.761-7.163 5-16 5z\"></path>\n",
       "<path d=\"M16 26c-8.837 0-16-2.239-16-5v6c0 2.761 7.163 5 16 5s16-2.239 16-5v-6c0 2.761-7.163 5-16 5z\"></path>\n",
       "</symbol>\n",
       "<symbol id=\"icon-file-text2\" viewBox=\"0 0 32 32\">\n",
       "<path d=\"M28.681 7.159c-0.694-0.947-1.662-2.053-2.724-3.116s-2.169-2.030-3.116-2.724c-1.612-1.182-2.393-1.319-2.841-1.319h-15.5c-1.378 0-2.5 1.121-2.5 2.5v27c0 1.378 1.122 2.5 2.5 2.5h23c1.378 0 2.5-1.122 2.5-2.5v-19.5c0-0.448-0.137-1.23-1.319-2.841zM24.543 5.457c0.959 0.959 1.712 1.825 2.268 2.543h-4.811v-4.811c0.718 0.556 1.584 1.309 2.543 2.268zM28 29.5c0 0.271-0.229 0.5-0.5 0.5h-23c-0.271 0-0.5-0.229-0.5-0.5v-27c0-0.271 0.229-0.5 0.5-0.5 0 0 15.499-0 15.5 0v7c0 0.552 0.448 1 1 1h7v19.5z\"></path>\n",
       "<path d=\"M23 26h-14c-0.552 0-1-0.448-1-1s0.448-1 1-1h14c0.552 0 1 0.448 1 1s-0.448 1-1 1z\"></path>\n",
       "<path d=\"M23 22h-14c-0.552 0-1-0.448-1-1s0.448-1 1-1h14c0.552 0 1 0.448 1 1s-0.448 1-1 1z\"></path>\n",
       "<path d=\"M23 18h-14c-0.552 0-1-0.448-1-1s0.448-1 1-1h14c0.552 0 1 0.448 1 1s-0.448 1-1 1z\"></path>\n",
       "</symbol>\n",
       "</defs>\n",
       "</svg>\n",
       "<style>/* CSS stylesheet for displaying xarray objects in jupyterlab.\n",
       " *\n",
       " */\n",
       "\n",
       ":root {\n",
       "  --xr-font-color0: var(--jp-content-font-color0, rgba(0, 0, 0, 1));\n",
       "  --xr-font-color2: var(--jp-content-font-color2, rgba(0, 0, 0, 0.54));\n",
       "  --xr-font-color3: var(--jp-content-font-color3, rgba(0, 0, 0, 0.38));\n",
       "  --xr-border-color: var(--jp-border-color2, #e0e0e0);\n",
       "  --xr-disabled-color: var(--jp-layout-color3, #bdbdbd);\n",
       "  --xr-background-color: var(--jp-layout-color0, white);\n",
       "  --xr-background-color-row-even: var(--jp-layout-color1, white);\n",
       "  --xr-background-color-row-odd: var(--jp-layout-color2, #eeeeee);\n",
       "}\n",
       "\n",
       "html[theme=dark],\n",
       "body.vscode-dark {\n",
       "  --xr-font-color0: rgba(255, 255, 255, 1);\n",
       "  --xr-font-color2: rgba(255, 255, 255, 0.54);\n",
       "  --xr-font-color3: rgba(255, 255, 255, 0.38);\n",
       "  --xr-border-color: #1F1F1F;\n",
       "  --xr-disabled-color: #515151;\n",
       "  --xr-background-color: #111111;\n",
       "  --xr-background-color-row-even: #111111;\n",
       "  --xr-background-color-row-odd: #313131;\n",
       "}\n",
       "\n",
       ".xr-wrap {\n",
       "  display: block;\n",
       "  min-width: 300px;\n",
       "  max-width: 700px;\n",
       "}\n",
       "\n",
       ".xr-text-repr-fallback {\n",
       "  /* fallback to plain text repr when CSS is not injected (untrusted notebook) */\n",
       "  display: none;\n",
       "}\n",
       "\n",
       ".xr-header {\n",
       "  padding-top: 6px;\n",
       "  padding-bottom: 6px;\n",
       "  margin-bottom: 4px;\n",
       "  border-bottom: solid 1px var(--xr-border-color);\n",
       "}\n",
       "\n",
       ".xr-header > div,\n",
       ".xr-header > ul {\n",
       "  display: inline;\n",
       "  margin-top: 0;\n",
       "  margin-bottom: 0;\n",
       "}\n",
       "\n",
       ".xr-obj-type,\n",
       ".xr-array-name {\n",
       "  margin-left: 2px;\n",
       "  margin-right: 10px;\n",
       "}\n",
       "\n",
       ".xr-obj-type {\n",
       "  color: var(--xr-font-color2);\n",
       "}\n",
       "\n",
       ".xr-sections {\n",
       "  padding-left: 0 !important;\n",
       "  display: grid;\n",
       "  grid-template-columns: 150px auto auto 1fr 20px 20px;\n",
       "}\n",
       "\n",
       ".xr-section-item {\n",
       "  display: contents;\n",
       "}\n",
       "\n",
       ".xr-section-item input {\n",
       "  display: none;\n",
       "}\n",
       "\n",
       ".xr-section-item input + label {\n",
       "  color: var(--xr-disabled-color);\n",
       "}\n",
       "\n",
       ".xr-section-item input:enabled + label {\n",
       "  cursor: pointer;\n",
       "  color: var(--xr-font-color2);\n",
       "}\n",
       "\n",
       ".xr-section-item input:enabled + label:hover {\n",
       "  color: var(--xr-font-color0);\n",
       "}\n",
       "\n",
       ".xr-section-summary {\n",
       "  grid-column: 1;\n",
       "  color: var(--xr-font-color2);\n",
       "  font-weight: 500;\n",
       "}\n",
       "\n",
       ".xr-section-summary > span {\n",
       "  display: inline-block;\n",
       "  padding-left: 0.5em;\n",
       "}\n",
       "\n",
       ".xr-section-summary-in:disabled + label {\n",
       "  color: var(--xr-font-color2);\n",
       "}\n",
       "\n",
       ".xr-section-summary-in + label:before {\n",
       "  display: inline-block;\n",
       "  content: '►';\n",
       "  font-size: 11px;\n",
       "  width: 15px;\n",
       "  text-align: center;\n",
       "}\n",
       "\n",
       ".xr-section-summary-in:disabled + label:before {\n",
       "  color: var(--xr-disabled-color);\n",
       "}\n",
       "\n",
       ".xr-section-summary-in:checked + label:before {\n",
       "  content: '▼';\n",
       "}\n",
       "\n",
       ".xr-section-summary-in:checked + label > span {\n",
       "  display: none;\n",
       "}\n",
       "\n",
       ".xr-section-summary,\n",
       ".xr-section-inline-details {\n",
       "  padding-top: 4px;\n",
       "  padding-bottom: 4px;\n",
       "}\n",
       "\n",
       ".xr-section-inline-details {\n",
       "  grid-column: 2 / -1;\n",
       "}\n",
       "\n",
       ".xr-section-details {\n",
       "  display: none;\n",
       "  grid-column: 1 / -1;\n",
       "  margin-bottom: 5px;\n",
       "}\n",
       "\n",
       ".xr-section-summary-in:checked ~ .xr-section-details {\n",
       "  display: contents;\n",
       "}\n",
       "\n",
       ".xr-array-wrap {\n",
       "  grid-column: 1 / -1;\n",
       "  display: grid;\n",
       "  grid-template-columns: 20px auto;\n",
       "}\n",
       "\n",
       ".xr-array-wrap > label {\n",
       "  grid-column: 1;\n",
       "  vertical-align: top;\n",
       "}\n",
       "\n",
       ".xr-preview {\n",
       "  color: var(--xr-font-color3);\n",
       "}\n",
       "\n",
       ".xr-array-preview,\n",
       ".xr-array-data {\n",
       "  padding: 0 5px !important;\n",
       "  grid-column: 2;\n",
       "}\n",
       "\n",
       ".xr-array-data,\n",
       ".xr-array-in:checked ~ .xr-array-preview {\n",
       "  display: none;\n",
       "}\n",
       "\n",
       ".xr-array-in:checked ~ .xr-array-data,\n",
       ".xr-array-preview {\n",
       "  display: inline-block;\n",
       "}\n",
       "\n",
       ".xr-dim-list {\n",
       "  display: inline-block !important;\n",
       "  list-style: none;\n",
       "  padding: 0 !important;\n",
       "  margin: 0;\n",
       "}\n",
       "\n",
       ".xr-dim-list li {\n",
       "  display: inline-block;\n",
       "  padding: 0;\n",
       "  margin: 0;\n",
       "}\n",
       "\n",
       ".xr-dim-list:before {\n",
       "  content: '(';\n",
       "}\n",
       "\n",
       ".xr-dim-list:after {\n",
       "  content: ')';\n",
       "}\n",
       "\n",
       ".xr-dim-list li:not(:last-child):after {\n",
       "  content: ',';\n",
       "  padding-right: 5px;\n",
       "}\n",
       "\n",
       ".xr-has-index {\n",
       "  font-weight: bold;\n",
       "}\n",
       "\n",
       ".xr-var-list,\n",
       ".xr-var-item {\n",
       "  display: contents;\n",
       "}\n",
       "\n",
       ".xr-var-item > div,\n",
       ".xr-var-item label,\n",
       ".xr-var-item > .xr-var-name span {\n",
       "  background-color: var(--xr-background-color-row-even);\n",
       "  margin-bottom: 0;\n",
       "}\n",
       "\n",
       ".xr-var-item > .xr-var-name:hover span {\n",
       "  padding-right: 5px;\n",
       "}\n",
       "\n",
       ".xr-var-list > li:nth-child(odd) > div,\n",
       ".xr-var-list > li:nth-child(odd) > label,\n",
       ".xr-var-list > li:nth-child(odd) > .xr-var-name span {\n",
       "  background-color: var(--xr-background-color-row-odd);\n",
       "}\n",
       "\n",
       ".xr-var-name {\n",
       "  grid-column: 1;\n",
       "}\n",
       "\n",
       ".xr-var-dims {\n",
       "  grid-column: 2;\n",
       "}\n",
       "\n",
       ".xr-var-dtype {\n",
       "  grid-column: 3;\n",
       "  text-align: right;\n",
       "  color: var(--xr-font-color2);\n",
       "}\n",
       "\n",
       ".xr-var-preview {\n",
       "  grid-column: 4;\n",
       "}\n",
       "\n",
       ".xr-var-name,\n",
       ".xr-var-dims,\n",
       ".xr-var-dtype,\n",
       ".xr-preview,\n",
       ".xr-attrs dt {\n",
       "  white-space: nowrap;\n",
       "  overflow: hidden;\n",
       "  text-overflow: ellipsis;\n",
       "  padding-right: 10px;\n",
       "}\n",
       "\n",
       ".xr-var-name:hover,\n",
       ".xr-var-dims:hover,\n",
       ".xr-var-dtype:hover,\n",
       ".xr-attrs dt:hover {\n",
       "  overflow: visible;\n",
       "  width: auto;\n",
       "  z-index: 1;\n",
       "}\n",
       "\n",
       ".xr-var-attrs,\n",
       ".xr-var-data {\n",
       "  display: none;\n",
       "  background-color: var(--xr-background-color) !important;\n",
       "  padding-bottom: 5px !important;\n",
       "}\n",
       "\n",
       ".xr-var-attrs-in:checked ~ .xr-var-attrs,\n",
       ".xr-var-data-in:checked ~ .xr-var-data {\n",
       "  display: block;\n",
       "}\n",
       "\n",
       ".xr-var-data > table {\n",
       "  float: right;\n",
       "}\n",
       "\n",
       ".xr-var-name span,\n",
       ".xr-var-data,\n",
       ".xr-attrs {\n",
       "  padding-left: 25px !important;\n",
       "}\n",
       "\n",
       ".xr-attrs,\n",
       ".xr-var-attrs,\n",
       ".xr-var-data {\n",
       "  grid-column: 1 / -1;\n",
       "}\n",
       "\n",
       "dl.xr-attrs {\n",
       "  padding: 0;\n",
       "  margin: 0;\n",
       "  display: grid;\n",
       "  grid-template-columns: 125px auto;\n",
       "}\n",
       "\n",
       ".xr-attrs dt,\n",
       ".xr-attrs dd {\n",
       "  padding: 0;\n",
       "  margin: 0;\n",
       "  float: left;\n",
       "  padding-right: 10px;\n",
       "  width: auto;\n",
       "}\n",
       "\n",
       ".xr-attrs dt {\n",
       "  font-weight: normal;\n",
       "  grid-column: 1;\n",
       "}\n",
       "\n",
       ".xr-attrs dt:hover span {\n",
       "  display: inline-block;\n",
       "  background: var(--xr-background-color);\n",
       "  padding-right: 10px;\n",
       "}\n",
       "\n",
       ".xr-attrs dd {\n",
       "  grid-column: 2;\n",
       "  white-space: pre-wrap;\n",
       "  word-break: break-all;\n",
       "}\n",
       "\n",
       ".xr-icon-database,\n",
       ".xr-icon-file-text2 {\n",
       "  display: inline-block;\n",
       "  vertical-align: middle;\n",
       "  width: 1em;\n",
       "  height: 1.5em !important;\n",
       "  stroke-width: 0;\n",
       "  stroke: currentColor;\n",
       "  fill: currentColor;\n",
       "}\n",
       "</style><pre class='xr-text-repr-fallback'>&lt;xarray.DataArray &#x27;air&#x27; (level: 17)&gt;\n",
       "array([ 24.349573,  23.344023,  18.293324,   9.438932,   1.324055,  -7.513126,\n",
       "       -18.578056, -33.55654 , -43.31791 , -54.050022, -65.35977 , -76.37845 ,\n",
       "       -76.08879 , -68.46786 , -59.25123 , -53.60974 , -45.525906],\n",
       "      dtype=float32)\n",
       "Coordinates:\n",
       "  * level    (level) float32 1e+03 925.0 850.0 700.0 ... 50.0 30.0 20.0 10.0\n",
       "    lat      float32 15.0\n",
       "    lon      float32 0.0\n",
       "    time     object 0001-01-01 00:00:00\n",
       "Attributes:\n",
       "    long_name:     Long Term Mean Monthly Mean of Air temperature\n",
       "    units:         degC\n",
       "    precision:     2\n",
       "    var_desc:      Air Temperature\n",
       "    level_desc:    Multiple levels\n",
       "    statistic:     Long Term Mean\n",
       "    parent_stat:   Mean\n",
       "    valid_range:   [-200.  300.]\n",
       "    dataset:       NCEP Reanalysis Derived Products\n",
       "    actual_range:  [-90.29936  41.93054]\n",
       "    _ChunkSizes:   [  1   1  73 144]</pre><div class='xr-wrap' hidden><div class='xr-header'><div class='xr-obj-type'>xarray.DataArray</div><div class='xr-array-name'>'air'</div><ul class='xr-dim-list'><li><span class='xr-has-index'>level</span>: 17</li></ul></div><ul class='xr-sections'><li class='xr-section-item'><div class='xr-array-wrap'><input id='section-f7b0397a-4326-4f59-98e4-af7c49babbb8' class='xr-array-in' type='checkbox' checked><label for='section-f7b0397a-4326-4f59-98e4-af7c49babbb8' title='Show/hide data repr'><svg class='icon xr-icon-database'><use xlink:href='#icon-database'></use></svg></label><div class='xr-array-preview xr-preview'><span>24.35 23.34 18.29 9.439 1.324 ... -76.09 -68.47 -59.25 -53.61 -45.53</span></div><div class='xr-array-data'><pre>array([ 24.349573,  23.344023,  18.293324,   9.438932,   1.324055,  -7.513126,\n",
       "       -18.578056, -33.55654 , -43.31791 , -54.050022, -65.35977 , -76.37845 ,\n",
       "       -76.08879 , -68.46786 , -59.25123 , -53.60974 , -45.525906],\n",
       "      dtype=float32)</pre></div></div></li><li class='xr-section-item'><input id='section-90a660b4-57e0-47f0-9f16-83106927e2a3' class='xr-section-summary-in' type='checkbox'  checked><label for='section-90a660b4-57e0-47f0-9f16-83106927e2a3' class='xr-section-summary' >Coordinates: <span>(4)</span></label><div class='xr-section-inline-details'></div><div class='xr-section-details'><ul class='xr-var-list'><li class='xr-var-item'><div class='xr-var-name'><span class='xr-has-index'>level</span></div><div class='xr-var-dims'>(level)</div><div class='xr-var-dtype'>float32</div><div class='xr-var-preview xr-preview'>1e+03 925.0 850.0 ... 20.0 10.0</div><input id='attrs-fb2d9704-ac8d-4862-87bd-ed2d7877f409' class='xr-var-attrs-in' type='checkbox' ><label for='attrs-fb2d9704-ac8d-4862-87bd-ed2d7877f409' title='Show/Hide attributes'><svg class='icon xr-icon-file-text2'><use xlink:href='#icon-file-text2'></use></svg></label><input id='data-894142b4-8486-46a2-8d94-449709014c7d' class='xr-var-data-in' type='checkbox'><label for='data-894142b4-8486-46a2-8d94-449709014c7d' title='Show/Hide data repr'><svg class='icon xr-icon-database'><use xlink:href='#icon-database'></use></svg></label><div class='xr-var-attrs'><dl class='xr-attrs'><dt><span>units :</span></dt><dd>millibar</dd><dt><span>long_name :</span></dt><dd>Level</dd><dt><span>positive :</span></dt><dd>down</dd><dt><span>GRIB_id :</span></dt><dd>100</dd><dt><span>GRIB_name :</span></dt><dd>hPa</dd><dt><span>actual_range :</span></dt><dd>[1000.   10.]</dd><dt><span>axis :</span></dt><dd>Z</dd></dl></div><div class='xr-var-data'><pre>array([1000.,  925.,  850.,  700.,  600.,  500.,  400.,  300.,  250.,  200.,\n",
       "        150.,  100.,   70.,   50.,   30.,   20.,   10.], dtype=float32)</pre></div></li><li class='xr-var-item'><div class='xr-var-name'><span>lat</span></div><div class='xr-var-dims'>()</div><div class='xr-var-dtype'>float32</div><div class='xr-var-preview xr-preview'>15.0</div><input id='attrs-df08fca0-4c78-41da-87c2-a73678d19b1e' class='xr-var-attrs-in' type='checkbox' ><label for='attrs-df08fca0-4c78-41da-87c2-a73678d19b1e' title='Show/Hide attributes'><svg class='icon xr-icon-file-text2'><use xlink:href='#icon-file-text2'></use></svg></label><input id='data-89425dcd-6632-4cc7-aec6-5697c78610f9' class='xr-var-data-in' type='checkbox'><label for='data-89425dcd-6632-4cc7-aec6-5697c78610f9' title='Show/Hide data repr'><svg class='icon xr-icon-database'><use xlink:href='#icon-database'></use></svg></label><div class='xr-var-attrs'><dl class='xr-attrs'><dt><span>units :</span></dt><dd>degrees_north</dd><dt><span>actual_range :</span></dt><dd>[ 90. -90.]</dd><dt><span>long_name :</span></dt><dd>Latitude</dd><dt><span>standard_name :</span></dt><dd>latitude</dd><dt><span>axis :</span></dt><dd>Y</dd></dl></div><div class='xr-var-data'><pre>array(15., dtype=float32)</pre></div></li><li class='xr-var-item'><div class='xr-var-name'><span>lon</span></div><div class='xr-var-dims'>()</div><div class='xr-var-dtype'>float32</div><div class='xr-var-preview xr-preview'>0.0</div><input id='attrs-565ac3ec-51a0-4ef3-8975-8719c83bd1ee' class='xr-var-attrs-in' type='checkbox' ><label for='attrs-565ac3ec-51a0-4ef3-8975-8719c83bd1ee' title='Show/Hide attributes'><svg class='icon xr-icon-file-text2'><use xlink:href='#icon-file-text2'></use></svg></label><input id='data-516ee46c-7998-4be4-a563-e37615a70bd1' class='xr-var-data-in' type='checkbox'><label for='data-516ee46c-7998-4be4-a563-e37615a70bd1' title='Show/Hide data repr'><svg class='icon xr-icon-database'><use xlink:href='#icon-database'></use></svg></label><div class='xr-var-attrs'><dl class='xr-attrs'><dt><span>units :</span></dt><dd>degrees_east</dd><dt><span>long_name :</span></dt><dd>Longitude</dd><dt><span>actual_range :</span></dt><dd>[  0.  357.5]</dd><dt><span>standard_name :</span></dt><dd>longitude</dd><dt><span>axis :</span></dt><dd>X</dd></dl></div><div class='xr-var-data'><pre>array(0., dtype=float32)</pre></div></li><li class='xr-var-item'><div class='xr-var-name'><span>time</span></div><div class='xr-var-dims'>()</div><div class='xr-var-dtype'>object</div><div class='xr-var-preview xr-preview'>0001-01-01 00:00:00</div><input id='attrs-25c94a41-ff1e-4abc-8e0b-622e60bdf635' class='xr-var-attrs-in' type='checkbox' ><label for='attrs-25c94a41-ff1e-4abc-8e0b-622e60bdf635' title='Show/Hide attributes'><svg class='icon xr-icon-file-text2'><use xlink:href='#icon-file-text2'></use></svg></label><input id='data-0c6964ce-4bdb-45e7-ace7-a4fa9e001e6b' class='xr-var-data-in' type='checkbox'><label for='data-0c6964ce-4bdb-45e7-ace7-a4fa9e001e6b' title='Show/Hide data repr'><svg class='icon xr-icon-database'><use xlink:href='#icon-database'></use></svg></label><div class='xr-var-attrs'><dl class='xr-attrs'><dt><span>long_name :</span></dt><dd>Time</dd><dt><span>delta_t :</span></dt><dd>0000-01-00 00:00:00</dd><dt><span>avg_period :</span></dt><dd>0030-00-00 00:00:00</dd><dt><span>prev_avg_period :</span></dt><dd>0000-01-00 00:00:00</dd><dt><span>standard_name :</span></dt><dd>time</dd><dt><span>axis :</span></dt><dd>T</dd><dt><span>climatology :</span></dt><dd>climatology_bounds</dd><dt><span>climo_period :</span></dt><dd>1991/01/01 - 2020/12/31</dd><dt><span>actual_range :</span></dt><dd>[-15769752. -15761736.]</dd><dt><span>ltm_range :</span></dt><dd>[1674264. 1936512.]</dd><dt><span>interpreted_actual_range :</span></dt><dd>0001/01/01 00:00:00 - 0001/12/01 00:00:00</dd></dl></div><div class='xr-var-data'><pre>array(cftime.DatetimeGregorian(1, 1, 1, 0, 0, 0, 0, has_year_zero=False),\n",
       "      dtype=object)</pre></div></li></ul></div></li><li class='xr-section-item'><input id='section-084c6114-2846-4cdd-9870-46060857fd95' class='xr-section-summary-in' type='checkbox'  ><label for='section-084c6114-2846-4cdd-9870-46060857fd95' class='xr-section-summary' >Attributes: <span>(11)</span></label><div class='xr-section-inline-details'></div><div class='xr-section-details'><dl class='xr-attrs'><dt><span>long_name :</span></dt><dd>Long Term Mean Monthly Mean of Air temperature</dd><dt><span>units :</span></dt><dd>degC</dd><dt><span>precision :</span></dt><dd>2</dd><dt><span>var_desc :</span></dt><dd>Air Temperature</dd><dt><span>level_desc :</span></dt><dd>Multiple levels</dd><dt><span>statistic :</span></dt><dd>Long Term Mean</dd><dt><span>parent_stat :</span></dt><dd>Mean</dd><dt><span>valid_range :</span></dt><dd>[-200.  300.]</dd><dt><span>dataset :</span></dt><dd>NCEP Reanalysis Derived Products</dd><dt><span>actual_range :</span></dt><dd>[-90.29936  41.93054]</dd><dt><span>_ChunkSizes :</span></dt><dd>[  1   1  73 144]</dd></dl></div></li></ul></div></div>"
      ],
      "text/plain": [
       "<xarray.DataArray 'air' (level: 17)>\n",
       "array([ 24.349573,  23.344023,  18.293324,   9.438932,   1.324055,  -7.513126,\n",
       "       -18.578056, -33.55654 , -43.31791 , -54.050022, -65.35977 , -76.37845 ,\n",
       "       -76.08879 , -68.46786 , -59.25123 , -53.60974 , -45.525906],\n",
       "      dtype=float32)\n",
       "Coordinates:\n",
       "  * level    (level) float32 1e+03 925.0 850.0 700.0 ... 50.0 30.0 20.0 10.0\n",
       "    lat      float32 15.0\n",
       "    lon      float32 0.0\n",
       "    time     object 0001-01-01 00:00:00\n",
       "Attributes:\n",
       "    long_name:     Long Term Mean Monthly Mean of Air temperature\n",
       "    units:         degC\n",
       "    precision:     2\n",
       "    var_desc:      Air Temperature\n",
       "    level_desc:    Multiple levels\n",
       "    statistic:     Long Term Mean\n",
       "    parent_stat:   Mean\n",
       "    valid_range:   [-200.  300.]\n",
       "    dataset:       NCEP Reanalysis Derived Products\n",
       "    actual_range:  [-90.29936  41.93054]\n",
       "    _ChunkSizes:   [  1   1  73 144]"
      ]
     },
     "execution_count": 11,
     "metadata": {},
     "output_type": "execute_result"
    }
   ],
   "source": [
    "# Let's choose a point.\n",
    "ta.isel(lat=30,lon=0,time=0)"
   ]
  },
  {
   "cell_type": "code",
   "execution_count": 12,
   "metadata": {},
   "outputs": [
    {
     "data": {
      "text/plain": [
       "[<matplotlib.lines.Line2D at 0x1635a8280>]"
      ]
     },
     "execution_count": 12,
     "metadata": {},
     "output_type": "execute_result"
    },
    {
     "data": {
      "image/png": "[encoded data removed]",
      "text/plain": [
       "<Figure size 432x288 with 1 Axes>"
      ]
     },
     "metadata": {
      "needs_background": "light"
     },
     "output_type": "display_data"
    }
   ],
   "source": [
    "# And make a plot.\n",
    "ta.isel(lat=30,lon=0,time=0).plot()"
   ]
  },
  {
   "cell_type": "code",
   "execution_count": 16,
   "metadata": {},
   "outputs": [
    {
     "data": {
      "text/plain": [
       "[<matplotlib.lines.Line2D at 0x1642f35b0>]"
      ]
     },
     "execution_count": 16,
     "metadata": {},
     "output_type": "execute_result"
    },
    {
     "data": {
      "image/png": "[encoded data removed]",
      "text/plain": [
       "<Figure size 432x288 with 1 Axes>"
      ]
     },
     "metadata": {
      "needs_background": "light"
     },
     "output_type": "display_data"
    }
   ],
   "source": [
    "# Let's switch the axes\n",
    "import matplotlib.pyplot as plt\n",
    "plt.plot(ta.isel(lat=30,lon=0,time=0),ds1.level)"
   ]
  },
  {
   "cell_type": "code",
   "execution_count": 18,
   "metadata": {},
   "outputs": [
    {
     "data": {
      "text/plain": [
       "Text(0, 0.5, 'P (hPa)')"
      ]
     },
     "execution_count": 18,
     "metadata": {},
     "output_type": "execute_result"
    },
    {
     "data": {
      "image/png": "[encoded data removed]",
      "text/plain": [
       "<Figure size 432x288 with 1 Axes>"
      ]
     },
     "metadata": {
      "needs_background": "light"
     },
     "output_type": "display_data"
    }
   ],
   "source": [
    "# And modify the axes\n",
    "lev=ds1.level\n",
    "plt.ylim(1000,0)\n",
    "plt.plot(ta.isel(lat=30,lon=0,time=0),lev)\n",
    "plt.xlabel('T (oC)')\n",
    "plt.ylabel('P (hPa)')"
   ]
  },
  {
   "cell_type": "markdown",
   "metadata": {
    "id": "rfnSRc2UqOJb"
   },
   "source": [
    "### Exercise\n",
    "Now let's read the recent surface temperature data. Find the dataset from the Catalog. It is called NCEP/NCAR Reanalysis.\n",
    "Please find the path to the data from here:\n",
    "    https://psl.noaa.gov/data/gridded/  </br>\n",
    "The variable is called air in the surface directory, and let's look at the values for year 2021 ( air.sig995.2021.nc)."
   ]
  },
  {
   "cell_type": "code",
   "execution_count": 22,
   "metadata": {
    "id": "lzHk0DoLqOJc",
    "outputId": "b5a53bc3-a861-49fd-e36b-faec723691a6"
   },
   "outputs": [
    {
     "name": "stdout",
     "output_type": "stream",
     "text": [
      "<xarray.Dataset>\n",
      "Dimensions:  (lat: 73, lon: 144, time: 1460)\n",
      "Coordinates:\n",
      "  * lat      (lat) float32 90.0 87.5 85.0 82.5 80.0 ... -82.5 -85.0 -87.5 -90.0\n",
      "  * lon      (lon) float32 0.0 2.5 5.0 7.5 10.0 ... 350.0 352.5 355.0 357.5\n",
      "  * time     (time) datetime64[ns] 2021-01-01 ... 2021-12-31T18:00:00\n",
      "Data variables:\n",
      "    air      (time, lat, lon) float32 ...\n",
      "Attributes:\n",
      "    Conventions:                     COARDS\n",
      "    title:                           4x daily NMC reanalysis (2014)\n",
      "    history:                         created 2017/12 by Hoop (netCDF2.3)\n",
      "    description:                     Data is from NMC initialized reanalysis\\...\n",
      "    platform:                        Model\n",
      "    dataset_title:                   NCEP-NCAR Reanalysis 1\n",
      "    References:                      http://www.psl.noaa.gov/data/gridded/dat...\n",
      "    DODS_EXTRA.Unlimited_Dimension:  time\n"
     ]
    }
   ],
   "source": [
    "file2='https://psl.noaa.gov/thredds/dodsC/Datasets/ncep.reanalysis/surface/air.sig995.2021.nc'\n",
    "with xr.open_dataset(file2) as ds2:      \n",
    "    print(ds2)\n",
    "ts=ds2.air"
   ]
  },
  {
   "cell_type": "markdown",
   "metadata": {
    "id": "HYa7UmREqOJd"
   },
   "source": [
    "Let's specify time and plot for the last time step."
   ]
  },
  {
   "cell_type": "code",
   "execution_count": 23,
   "metadata": {
    "id": "YuGnNZJ5qOJe",
    "outputId": "58eed024-5b8d-45d0-8ba8-de5ed440a8c9"
   },
   "outputs": [
    {
     "data": {
      "text/plain": [
       "<matplotlib.collections.QuadMesh at 0x1657c31c0>"
      ]
     },
     "execution_count": 23,
     "metadata": {},
     "output_type": "execute_result"
    },
    {
     "data": {
      "image/png": "[encoded data removed]",
      "text/plain": [
       "<Figure size 432x288 with 2 Axes>"
      ]
     },
     "metadata": {
      "needs_background": "light"
     },
     "output_type": "display_data"
    }
   ],
   "source": [
    "ts.isel(time=1).plot()  # isel is used to specify the index."
   ]
  },
  {
   "cell_type": "markdown",
   "metadata": {
    "id": "D4UMl541qOJe"
   },
   "source": [
    "### Exercise\n",
    "Make a plot for the fifth time step."
   ]
  },
  {
   "cell_type": "code",
   "execution_count": null,
   "metadata": {
    "id": "W3xLFXWwqOJf"
   },
   "outputs": [],
   "source": []
  },
  {
   "cell_type": "markdown",
   "metadata": {
    "id": "jGWZhZaHqOJf"
   },
   "source": [
    "Let's make a plot for February 1st 00 UTC. To do that, let's first figure out how the time axis is written."
   ]
  },
  {
   "cell_type": "code",
   "execution_count": null,
   "metadata": {
    "id": "Ti0EqrmbqOJg",
    "outputId": "0117569c-8874-4bc2-d502-b6ba39158b69"
   },
   "outputs": [
    {
     "name": "stdout",
     "output_type": "stream",
     "text": [
      "<xarray.DataArray 'time' (time: 156)>\n",
      "array(['2021-01-01T00:00:00.000000000', '2021-01-01T06:00:00.000000000',\n",
      "       '2021-01-01T12:00:00.000000000', '2021-01-01T18:00:00.000000000',\n",
      "       '2021-01-02T00:00:00.000000000', '2021-01-02T06:00:00.000000000',\n",
      "       '2021-01-02T12:00:00.000000000', '2021-01-02T18:00:00.000000000',\n",
      "       '2021-01-03T00:00:00.000000000', '2021-01-03T06:00:00.000000000',\n",
      "       '2021-01-03T12:00:00.000000000', '2021-01-03T18:00:00.000000000',\n",
      "       '2021-01-04T00:00:00.000000000', '2021-01-04T06:00:00.000000000',\n",
      "       '2021-01-04T12:00:00.000000000', '2021-01-04T18:00:00.000000000',\n",
      "       '2021-01-05T00:00:00.000000000', '2021-01-05T06:00:00.000000000',\n",
      "       '2021-01-05T12:00:00.000000000', '2021-01-05T18:00:00.000000000',\n",
      "       '2021-01-06T00:00:00.000000000', '2021-01-06T06:00:00.000000000',\n",
      "       '2021-01-06T12:00:00.000000000', '2021-01-06T18:00:00.000000000',\n",
      "       '2021-01-07T00:00:00.000000000', '2021-01-07T06:00:00.000000000',\n",
      "       '2021-01-07T12:00:00.000000000', '2021-01-07T18:00:00.000000000',\n",
      "       '2021-01-08T00:00:00.000000000', '2021-01-08T06:00:00.000000000',\n",
      "       '2021-01-08T12:00:00.000000000', '2021-01-08T18:00:00.000000000',\n",
      "       '2021-01-09T00:00:00.000000000', '2021-01-09T06:00:00.000000000',\n",
      "       '2021-01-09T12:00:00.000000000', '2021-01-09T18:00:00.000000000',\n",
      "       '2021-01-10T00:00:00.000000000', '2021-01-10T06:00:00.000000000',\n",
      "       '2021-01-10T12:00:00.000000000', '2021-01-10T18:00:00.000000000',\n",
      "       '2021-01-11T00:00:00.000000000', '2021-01-11T06:00:00.000000000',\n",
      "       '2021-01-11T12:00:00.000000000', '2021-01-11T18:00:00.000000000',\n",
      "       '2021-01-12T00:00:00.000000000', '2021-01-12T06:00:00.000000000',\n",
      "       '2021-01-12T12:00:00.000000000', '2021-01-12T18:00:00.000000000',\n",
      "       '2021-01-13T00:00:00.000000000', '2021-01-13T06:00:00.000000000',\n",
      "       '2021-01-13T12:00:00.000000000', '2021-01-13T18:00:00.000000000',\n",
      "       '2021-01-14T00:00:00.000000000', '2021-01-14T06:00:00.000000000',\n",
      "       '2021-01-14T12:00:00.000000000', '2021-01-14T18:00:00.000000000',\n",
      "       '2021-01-15T00:00:00.000000000', '2021-01-15T06:00:00.000000000',\n",
      "       '2021-01-15T12:00:00.000000000', '2021-01-15T18:00:00.000000000',\n",
      "       '2021-01-16T00:00:00.000000000', '2021-01-16T06:00:00.000000000',\n",
      "       '2021-01-16T12:00:00.000000000', '2021-01-16T18:00:00.000000000',\n",
      "       '2021-01-17T00:00:00.000000000', '2021-01-17T06:00:00.000000000',\n",
      "       '2021-01-17T12:00:00.000000000', '2021-01-17T18:00:00.000000000',\n",
      "       '2021-01-18T00:00:00.000000000', '2021-01-18T06:00:00.000000000',\n",
      "       '2021-01-18T12:00:00.000000000', '2021-01-18T18:00:00.000000000',\n",
      "       '2021-01-19T00:00:00.000000000', '2021-01-19T06:00:00.000000000',\n",
      "       '2021-01-19T12:00:00.000000000', '2021-01-19T18:00:00.000000000',\n",
      "       '2021-01-20T00:00:00.000000000', '2021-01-20T06:00:00.000000000',\n",
      "       '2021-01-20T12:00:00.000000000', '2021-01-20T18:00:00.000000000',\n",
      "       '2021-01-21T00:00:00.000000000', '2021-01-21T06:00:00.000000000',\n",
      "       '2021-01-21T12:00:00.000000000', '2021-01-21T18:00:00.000000000',\n",
      "       '2021-01-22T00:00:00.000000000', '2021-01-22T06:00:00.000000000',\n",
      "       '2021-01-22T12:00:00.000000000', '2021-01-22T18:00:00.000000000',\n",
      "       '2021-01-23T00:00:00.000000000', '2021-01-23T06:00:00.000000000',\n",
      "       '2021-01-23T12:00:00.000000000', '2021-01-23T18:00:00.000000000',\n",
      "       '2021-01-24T00:00:00.000000000', '2021-01-24T06:00:00.000000000',\n",
      "       '2021-01-24T12:00:00.000000000', '2021-01-24T18:00:00.000000000',\n",
      "       '2021-01-25T00:00:00.000000000', '2021-01-25T06:00:00.000000000',\n",
      "       '2021-01-25T12:00:00.000000000', '2021-01-25T18:00:00.000000000',\n",
      "       '2021-01-26T00:00:00.000000000', '2021-01-26T06:00:00.000000000',\n",
      "       '2021-01-26T12:00:00.000000000', '2021-01-26T18:00:00.000000000',\n",
      "       '2021-01-27T00:00:00.000000000', '2021-01-27T06:00:00.000000000',\n",
      "       '2021-01-27T12:00:00.000000000', '2021-01-27T18:00:00.000000000',\n",
      "       '2021-01-28T00:00:00.000000000', '2021-01-28T06:00:00.000000000',\n",
      "       '2021-01-28T12:00:00.000000000', '2021-01-28T18:00:00.000000000',\n",
      "       '2021-01-29T00:00:00.000000000', '2021-01-29T06:00:00.000000000',\n",
      "       '2021-01-29T12:00:00.000000000', '2021-01-29T18:00:00.000000000',\n",
      "       '2021-01-30T00:00:00.000000000', '2021-01-30T06:00:00.000000000',\n",
      "       '2021-01-30T12:00:00.000000000', '2021-01-30T18:00:00.000000000',\n",
      "       '2021-01-31T00:00:00.000000000', '2021-01-31T06:00:00.000000000',\n",
      "       '2021-01-31T12:00:00.000000000', '2021-01-31T18:00:00.000000000',\n",
      "       '2021-02-01T00:00:00.000000000', '2021-02-01T06:00:00.000000000',\n",
      "       '2021-02-01T12:00:00.000000000', '2021-02-01T18:00:00.000000000',\n",
      "       '2021-02-02T00:00:00.000000000', '2021-02-02T06:00:00.000000000',\n",
      "       '2021-02-02T12:00:00.000000000', '2021-02-02T18:00:00.000000000',\n",
      "       '2021-02-03T00:00:00.000000000', '2021-02-03T06:00:00.000000000',\n",
      "       '2021-02-03T12:00:00.000000000', '2021-02-03T18:00:00.000000000',\n",
      "       '2021-02-04T00:00:00.000000000', '2021-02-04T06:00:00.000000000',\n",
      "       '2021-02-04T12:00:00.000000000', '2021-02-04T18:00:00.000000000',\n",
      "       '2021-02-05T00:00:00.000000000', '2021-02-05T06:00:00.000000000',\n",
      "       '2021-02-05T12:00:00.000000000', '2021-02-05T18:00:00.000000000',\n",
      "       '2021-02-06T00:00:00.000000000', '2021-02-06T06:00:00.000000000',\n",
      "       '2021-02-06T12:00:00.000000000', '2021-02-06T18:00:00.000000000',\n",
      "       '2021-02-07T00:00:00.000000000', '2021-02-07T06:00:00.000000000',\n",
      "       '2021-02-07T12:00:00.000000000', '2021-02-07T18:00:00.000000000',\n",
      "       '2021-02-08T00:00:00.000000000', '2021-02-08T06:00:00.000000000',\n",
      "       '2021-02-08T12:00:00.000000000', '2021-02-08T18:00:00.000000000'],\n",
      "      dtype='datetime64[ns]')\n",
      "Coordinates:\n",
      "  * time     (time) datetime64[ns] 2021-01-01 ... 2021-02-08T18:00:00\n",
      "Attributes:\n",
      "    long_name:      Time\n",
      "    delta_t:        0000-00-00 06:00:00\n",
      "    standard_name:  time\n",
      "    axis:           T\n",
      "    actual_range:   [1937256. 1938186.]\n",
      "    _ChunkSizes:    512\n"
     ]
    }
   ],
   "source": [
    "print(ts.time)"
   ]
  },
  {
   "cell_type": "code",
   "execution_count": 24,
   "metadata": {
    "id": "b2_pO81GqOJg",
    "outputId": "c236ef5b-e104-4a12-cbdd-4555206e9d9f"
   },
   "outputs": [
    {
     "data": {
      "text/plain": [
       "<matplotlib.collections.QuadMesh at 0x1658e92e0>"
      ]
     },
     "execution_count": 24,
     "metadata": {},
     "output_type": "execute_result"
    },
    {
     "data": {
      "image/png": "[encoded data removed]",
      "text/plain": [
       "<Figure size 432x288 with 2 Axes>"
      ]
     },
     "metadata": {
      "needs_background": "light"
     },
     "output_type": "display_data"
    }
   ],
   "source": [
    "ts.sel(time='2021-02-01T00:00').plot()  # sel is used to specify the axis values"
   ]
  },
  {
   "cell_type": "markdown",
   "metadata": {
    "id": "654WptFSqOJh"
   },
   "source": [
    "### Exercise\n",
    "Make a plot for February 7th 18:00 UTC."
   ]
  },
  {
   "cell_type": "code",
   "execution_count": null,
   "metadata": {
    "id": "oFrxcuquqOJh"
   },
   "outputs": [],
   "source": []
  },
  {
   "cell_type": "markdown",
   "metadata": {
    "id": "B5lTY2FrqOJh"
   },
   "source": [
    "We could specify two dimensions and make a line plot. Let's make a plot for a grid point closest to providence. "
   ]
  },
  {
   "cell_type": "code",
   "execution_count": 27,
   "metadata": {
    "id": "KEc6YotlqOJi",
    "outputId": "06d15951-e4e5-4a1e-95d5-d7fe99c564d4"
   },
   "outputs": [
    {
     "name": "stderr",
     "output_type": "stream",
     "text": [
      "/Users/jungeunl/miniconda3/lib/python3.9/site-packages/xarray/core/indexes.py:234: FutureWarning: Passing method to Float64Index.get_loc is deprecated and will raise in a future version. Use index.get_indexer([item], method=...) instead.\n",
      "  indexer = self.index.get_loc(\n",
      "/Users/jungeunl/miniconda3/lib/python3.9/site-packages/xarray/core/indexes.py:234: FutureWarning: Passing method to Float64Index.get_loc is deprecated and will raise in a future version. Use index.get_indexer([item], method=...) instead.\n",
      "  indexer = self.index.get_loc(\n"
     ]
    },
    {
     "data": {
      "text/plain": [
       "[<matplotlib.lines.Line2D at 0x165a49c40>]"
      ]
     },
     "execution_count": 27,
     "metadata": {},
     "output_type": "execute_result"
    },
    {
     "data": {
      "image/png": "[encoded data removed]",
      "text/plain": [
       "<Figure size 432x288 with 1 Axes>"
      ]
     },
     "metadata": {
      "needs_background": "light"
     },
     "output_type": "display_data"
    }
   ],
   "source": [
    "#Plot temperature of a point in January\n",
    "lat_pvd=41.8\n",
    "lon_pvd=-71.4+360\n",
    "ts_prov=ts.sel(lat=lat_pvd,lon=lon_pvd , method='nearest')\n",
    "ts_prov.plot()"
   ]
  },
  {
   "cell_type": "markdown",
   "metadata": {
    "id": "MfDqF5vpqOJi"
   },
   "source": [
    "### Exercise\n",
    "Choose a location that you'd like to look at, and make a line plot."
   ]
  },
  {
   "cell_type": "code",
   "execution_count": null,
   "metadata": {
    "id": "MRTWXJvrqOJj"
   },
   "outputs": [],
   "source": []
  },
  {
   "cell_type": "markdown",
   "metadata": {},
   "source": [
    "### Exercise\n",
    "Plot the vertical distribution of temperature near Providence for the 7th time step (July)."
   ]
  },
  {
   "cell_type": "code",
   "execution_count": null,
   "metadata": {},
   "outputs": [],
   "source": []
  }
 ],
 "metadata": {
  "colab": {
   "name": "06_xarray.ipynb",
   "provenance": []
  },
  "kernelspec": {
   "display_name": "Python 3",
   "language": "python",
   "name": "python3"
  },
  "language_info": {
   "codemirror_mode": {
    "name": "ipython",
    "version": 3
   },
   "file_extension": ".py",
   "mimetype": "text/x-python",
   "name": "python",
   "nbconvert_exporter": "python",
   "pygments_lexer": "ipython3",
   "version": "3.9.12"
  }
 },
 "nbformat": 4,
 "nbformat_minor": 1
}
